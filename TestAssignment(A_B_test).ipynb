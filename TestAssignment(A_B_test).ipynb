{
  "nbformat": 4,
  "nbformat_minor": 0,
  "metadata": {
    "colab": {
      "provenance": []
    },
    "kernelspec": {
      "name": "python3",
      "display_name": "Python 3"
    },
    "language_info": {
      "name": "python"
    }
  },
  "cells": [
    {
      "cell_type": "markdown",
      "source": [
        "It's critical that the main statistic we use for our A/B test closely matches our unique business goal. Even though it's a typical measure, the \"number of people clicking the button\" may not give the whole picture. For a more in-depth examination, I would advise taking into account the subsequent metrics:\n",
        "\n",
        "Primary Metric: Click-Through Rate (CTR):\n",
        "\n",
        "Calculation: CTR = (Number of Clicks / Number of Impressions) * 100\n",
        "Reasoning: CTR offers a more comprehensive view by considering the ratio of clicks to impressions. It helps gauge the effectiveness of the button in engaging users.\n",
        "\n",
        "Derived Metric: Conversion Rate:\n",
        "\n",
        "Calculation: Conversion Rate = (Number of Conversions / Number of Clicks) * 100\n",
        "Reasoning: If our ultimate goal is user actions post-click (e.g., making a purchase, signing up), the conversion rate provides insights into how well the clicks lead to desired outcomes.\n",
        "\n",
        "Derived Metric: Engagement Time:\n",
        "\n",
        "Calculation: Average Engagement Time per User\n",
        "Reasoning: If the button directs users to a new page or feature, measuring user engagement time can reveal how much time they spend, indicating interest or satisfaction.\n",
        "\n",
        "Derived Metric: Bounce Rate:\n",
        "\n",
        "Calculation: Bounce Rate = (Number of Single-Page Sessions / Total Number of Sessions) * 100\n",
        "Reasoning: A high bounce rate may indicate that users, after clicking the button, are not finding what they expected. This is especially relevant if the button aims to guide users deeper into our site or app.\n",
        "\n",
        "Derived Metric: User Retention:\n",
        "\n",
        "Calculation: Percentage of users who return after clicking the button\n",
        "Reasoning: If our goal is user retention or encouraging return visits, measuring how many users come back after interacting with the button is crucial for long-term success.\n",
        "\n",
        "In choosing these metrics, it's important to ensure they align with our specific goals and user journey. Combining multiple metrics provides a more holistic view of the A/B test impact. Additionally, paying attention to statistical and practical significance ensures that any observed differences are not merely due to chance and are meaningful for our business."
      ],
      "metadata": {
        "id": "tHJxRqCy-pok"
      }
    },
    {
      "cell_type": "code",
      "execution_count": 1,
      "metadata": {
        "id": "aXN2C0xvuOZy"
      },
      "outputs": [],
      "source": [
        "import pandas as pd\n"
      ]
    },
    {
      "cell_type": "code",
      "source": [
        "initial_df = pd.read_csv('/content/AssignmentData(ab_test).csv')"
      ],
      "metadata": {
        "id": "mak8Gs-YvQLm"
      },
      "execution_count": 3,
      "outputs": []
    },
    {
      "cell_type": "code",
      "source": [
        "initial_df.head()\n"
      ],
      "metadata": {
        "colab": {
          "base_uri": "https://localhost:8080/",
          "height": 206
        },
        "id": "A1hdSC_yvWhQ",
        "outputId": "457866ad-b677-48c2-cfdd-7221301a793a"
      },
      "execution_count": 9,
      "outputs": [
        {
          "output_type": "execute_result",
          "data": {
            "text/plain": [
              "         Date  Device                                            Address  \\\n",
              "0  2023-05-18  Mobile  fyttlyf/business/campaign/campaigns-business/c...   \n",
              "1  2023-05-18  Laptop              fyttlyf/business/campaign/get-paid///   \n",
              "2  2023-05-18  Mobile  fyttlyf/business/campaign/campaigns-business/s...   \n",
              "3  2023-05-18  Laptop  fyttlyf/business/product/business-financial-se...   \n",
              "4  2023-05-18  Laptop  fyttlyf/business/product/business-accept-payme...   \n",
              "\n",
              "   Clicks  Visitors       Group  \n",
              "0     159       199     Control  \n",
              "1      18      1413  Experiment  \n",
              "2     142       759     Control  \n",
              "3     126       473     Control  \n",
              "4     129       183     Control  "
            ],
            "text/html": [
              "\n",
              "  <div id=\"df-d0dc532b-d28d-404a-846d-a29e6c18eaa3\" class=\"colab-df-container\">\n",
              "    <div>\n",
              "<style scoped>\n",
              "    .dataframe tbody tr th:only-of-type {\n",
              "        vertical-align: middle;\n",
              "    }\n",
              "\n",
              "    .dataframe tbody tr th {\n",
              "        vertical-align: top;\n",
              "    }\n",
              "\n",
              "    .dataframe thead th {\n",
              "        text-align: right;\n",
              "    }\n",
              "</style>\n",
              "<table border=\"1\" class=\"dataframe\">\n",
              "  <thead>\n",
              "    <tr style=\"text-align: right;\">\n",
              "      <th></th>\n",
              "      <th>Date</th>\n",
              "      <th>Device</th>\n",
              "      <th>Address</th>\n",
              "      <th>Clicks</th>\n",
              "      <th>Visitors</th>\n",
              "      <th>Group</th>\n",
              "    </tr>\n",
              "  </thead>\n",
              "  <tbody>\n",
              "    <tr>\n",
              "      <th>0</th>\n",
              "      <td>2023-05-18</td>\n",
              "      <td>Mobile</td>\n",
              "      <td>fyttlyf/business/campaign/campaigns-business/c...</td>\n",
              "      <td>159</td>\n",
              "      <td>199</td>\n",
              "      <td>Control</td>\n",
              "    </tr>\n",
              "    <tr>\n",
              "      <th>1</th>\n",
              "      <td>2023-05-18</td>\n",
              "      <td>Laptop</td>\n",
              "      <td>fyttlyf/business/campaign/get-paid///</td>\n",
              "      <td>18</td>\n",
              "      <td>1413</td>\n",
              "      <td>Experiment</td>\n",
              "    </tr>\n",
              "    <tr>\n",
              "      <th>2</th>\n",
              "      <td>2023-05-18</td>\n",
              "      <td>Mobile</td>\n",
              "      <td>fyttlyf/business/campaign/campaigns-business/s...</td>\n",
              "      <td>142</td>\n",
              "      <td>759</td>\n",
              "      <td>Control</td>\n",
              "    </tr>\n",
              "    <tr>\n",
              "      <th>3</th>\n",
              "      <td>2023-05-18</td>\n",
              "      <td>Laptop</td>\n",
              "      <td>fyttlyf/business/product/business-financial-se...</td>\n",
              "      <td>126</td>\n",
              "      <td>473</td>\n",
              "      <td>Control</td>\n",
              "    </tr>\n",
              "    <tr>\n",
              "      <th>4</th>\n",
              "      <td>2023-05-18</td>\n",
              "      <td>Laptop</td>\n",
              "      <td>fyttlyf/business/product/business-accept-payme...</td>\n",
              "      <td>129</td>\n",
              "      <td>183</td>\n",
              "      <td>Control</td>\n",
              "    </tr>\n",
              "  </tbody>\n",
              "</table>\n",
              "</div>\n",
              "    <div class=\"colab-df-buttons\">\n",
              "\n",
              "  <div class=\"colab-df-container\">\n",
              "    <button class=\"colab-df-convert\" onclick=\"convertToInteractive('df-d0dc532b-d28d-404a-846d-a29e6c18eaa3')\"\n",
              "            title=\"Convert this dataframe to an interactive table.\"\n",
              "            style=\"display:none;\">\n",
              "\n",
              "  <svg xmlns=\"http://www.w3.org/2000/svg\" height=\"24px\" viewBox=\"0 -960 960 960\">\n",
              "    <path d=\"M120-120v-720h720v720H120Zm60-500h600v-160H180v160Zm220 220h160v-160H400v160Zm0 220h160v-160H400v160ZM180-400h160v-160H180v160Zm440 0h160v-160H620v160ZM180-180h160v-160H180v160Zm440 0h160v-160H620v160Z\"/>\n",
              "  </svg>\n",
              "    </button>\n",
              "\n",
              "  <style>\n",
              "    .colab-df-container {\n",
              "      display:flex;\n",
              "      gap: 12px;\n",
              "    }\n",
              "\n",
              "    .colab-df-convert {\n",
              "      background-color: #E8F0FE;\n",
              "      border: none;\n",
              "      border-radius: 50%;\n",
              "      cursor: pointer;\n",
              "      display: none;\n",
              "      fill: #1967D2;\n",
              "      height: 32px;\n",
              "      padding: 0 0 0 0;\n",
              "      width: 32px;\n",
              "    }\n",
              "\n",
              "    .colab-df-convert:hover {\n",
              "      background-color: #E2EBFA;\n",
              "      box-shadow: 0px 1px 2px rgba(60, 64, 67, 0.3), 0px 1px 3px 1px rgba(60, 64, 67, 0.15);\n",
              "      fill: #174EA6;\n",
              "    }\n",
              "\n",
              "    .colab-df-buttons div {\n",
              "      margin-bottom: 4px;\n",
              "    }\n",
              "\n",
              "    [theme=dark] .colab-df-convert {\n",
              "      background-color: #3B4455;\n",
              "      fill: #D2E3FC;\n",
              "    }\n",
              "\n",
              "    [theme=dark] .colab-df-convert:hover {\n",
              "      background-color: #434B5C;\n",
              "      box-shadow: 0px 1px 3px 1px rgba(0, 0, 0, 0.15);\n",
              "      filter: drop-shadow(0px 1px 2px rgba(0, 0, 0, 0.3));\n",
              "      fill: #FFFFFF;\n",
              "    }\n",
              "  </style>\n",
              "\n",
              "    <script>\n",
              "      const buttonEl =\n",
              "        document.querySelector('#df-d0dc532b-d28d-404a-846d-a29e6c18eaa3 button.colab-df-convert');\n",
              "      buttonEl.style.display =\n",
              "        google.colab.kernel.accessAllowed ? 'block' : 'none';\n",
              "\n",
              "      async function convertToInteractive(key) {\n",
              "        const element = document.querySelector('#df-d0dc532b-d28d-404a-846d-a29e6c18eaa3');\n",
              "        const dataTable =\n",
              "          await google.colab.kernel.invokeFunction('convertToInteractive',\n",
              "                                                    [key], {});\n",
              "        if (!dataTable) return;\n",
              "\n",
              "        const docLinkHtml = 'Like what you see? Visit the ' +\n",
              "          '<a target=\"_blank\" href=https://colab.research.google.com/notebooks/data_table.ipynb>data table notebook</a>'\n",
              "          + ' to learn more about interactive tables.';\n",
              "        element.innerHTML = '';\n",
              "        dataTable['output_type'] = 'display_data';\n",
              "        await google.colab.output.renderOutput(dataTable, element);\n",
              "        const docLink = document.createElement('div');\n",
              "        docLink.innerHTML = docLinkHtml;\n",
              "        element.appendChild(docLink);\n",
              "      }\n",
              "    </script>\n",
              "  </div>\n",
              "\n",
              "\n",
              "<div id=\"df-3a6ab3cf-07c3-4edc-a8bf-88897ffc04f3\">\n",
              "  <button class=\"colab-df-quickchart\" onclick=\"quickchart('df-3a6ab3cf-07c3-4edc-a8bf-88897ffc04f3')\"\n",
              "            title=\"Suggest charts\"\n",
              "            style=\"display:none;\">\n",
              "\n",
              "<svg xmlns=\"http://www.w3.org/2000/svg\" height=\"24px\"viewBox=\"0 0 24 24\"\n",
              "     width=\"24px\">\n",
              "    <g>\n",
              "        <path d=\"M19 3H5c-1.1 0-2 .9-2 2v14c0 1.1.9 2 2 2h14c1.1 0 2-.9 2-2V5c0-1.1-.9-2-2-2zM9 17H7v-7h2v7zm4 0h-2V7h2v10zm4 0h-2v-4h2v4z\"/>\n",
              "    </g>\n",
              "</svg>\n",
              "  </button>\n",
              "\n",
              "<style>\n",
              "  .colab-df-quickchart {\n",
              "      --bg-color: #E8F0FE;\n",
              "      --fill-color: #1967D2;\n",
              "      --hover-bg-color: #E2EBFA;\n",
              "      --hover-fill-color: #174EA6;\n",
              "      --disabled-fill-color: #AAA;\n",
              "      --disabled-bg-color: #DDD;\n",
              "  }\n",
              "\n",
              "  [theme=dark] .colab-df-quickchart {\n",
              "      --bg-color: #3B4455;\n",
              "      --fill-color: #D2E3FC;\n",
              "      --hover-bg-color: #434B5C;\n",
              "      --hover-fill-color: #FFFFFF;\n",
              "      --disabled-bg-color: #3B4455;\n",
              "      --disabled-fill-color: #666;\n",
              "  }\n",
              "\n",
              "  .colab-df-quickchart {\n",
              "    background-color: var(--bg-color);\n",
              "    border: none;\n",
              "    border-radius: 50%;\n",
              "    cursor: pointer;\n",
              "    display: none;\n",
              "    fill: var(--fill-color);\n",
              "    height: 32px;\n",
              "    padding: 0;\n",
              "    width: 32px;\n",
              "  }\n",
              "\n",
              "  .colab-df-quickchart:hover {\n",
              "    background-color: var(--hover-bg-color);\n",
              "    box-shadow: 0 1px 2px rgba(60, 64, 67, 0.3), 0 1px 3px 1px rgba(60, 64, 67, 0.15);\n",
              "    fill: var(--button-hover-fill-color);\n",
              "  }\n",
              "\n",
              "  .colab-df-quickchart-complete:disabled,\n",
              "  .colab-df-quickchart-complete:disabled:hover {\n",
              "    background-color: var(--disabled-bg-color);\n",
              "    fill: var(--disabled-fill-color);\n",
              "    box-shadow: none;\n",
              "  }\n",
              "\n",
              "  .colab-df-spinner {\n",
              "    border: 2px solid var(--fill-color);\n",
              "    border-color: transparent;\n",
              "    border-bottom-color: var(--fill-color);\n",
              "    animation:\n",
              "      spin 1s steps(1) infinite;\n",
              "  }\n",
              "\n",
              "  @keyframes spin {\n",
              "    0% {\n",
              "      border-color: transparent;\n",
              "      border-bottom-color: var(--fill-color);\n",
              "      border-left-color: var(--fill-color);\n",
              "    }\n",
              "    20% {\n",
              "      border-color: transparent;\n",
              "      border-left-color: var(--fill-color);\n",
              "      border-top-color: var(--fill-color);\n",
              "    }\n",
              "    30% {\n",
              "      border-color: transparent;\n",
              "      border-left-color: var(--fill-color);\n",
              "      border-top-color: var(--fill-color);\n",
              "      border-right-color: var(--fill-color);\n",
              "    }\n",
              "    40% {\n",
              "      border-color: transparent;\n",
              "      border-right-color: var(--fill-color);\n",
              "      border-top-color: var(--fill-color);\n",
              "    }\n",
              "    60% {\n",
              "      border-color: transparent;\n",
              "      border-right-color: var(--fill-color);\n",
              "    }\n",
              "    80% {\n",
              "      border-color: transparent;\n",
              "      border-right-color: var(--fill-color);\n",
              "      border-bottom-color: var(--fill-color);\n",
              "    }\n",
              "    90% {\n",
              "      border-color: transparent;\n",
              "      border-bottom-color: var(--fill-color);\n",
              "    }\n",
              "  }\n",
              "</style>\n",
              "\n",
              "  <script>\n",
              "    async function quickchart(key) {\n",
              "      const quickchartButtonEl =\n",
              "        document.querySelector('#' + key + ' button');\n",
              "      quickchartButtonEl.disabled = true;  // To prevent multiple clicks.\n",
              "      quickchartButtonEl.classList.add('colab-df-spinner');\n",
              "      try {\n",
              "        const charts = await google.colab.kernel.invokeFunction(\n",
              "            'suggestCharts', [key], {});\n",
              "      } catch (error) {\n",
              "        console.error('Error during call to suggestCharts:', error);\n",
              "      }\n",
              "      quickchartButtonEl.classList.remove('colab-df-spinner');\n",
              "      quickchartButtonEl.classList.add('colab-df-quickchart-complete');\n",
              "    }\n",
              "    (() => {\n",
              "      let quickchartButtonEl =\n",
              "        document.querySelector('#df-3a6ab3cf-07c3-4edc-a8bf-88897ffc04f3 button');\n",
              "      quickchartButtonEl.style.display =\n",
              "        google.colab.kernel.accessAllowed ? 'block' : 'none';\n",
              "    })();\n",
              "  </script>\n",
              "</div>\n",
              "\n",
              "    </div>\n",
              "  </div>\n"
            ]
          },
          "metadata": {},
          "execution_count": 9
        }
      ]
    },
    {
      "cell_type": "code",
      "source": [
        "import pandas as pd\n",
        "import matplotlib.pyplot as plt\n",
        "\n",
        "df = initial_df\n",
        "\n",
        "# Creating a time series visualization\n",
        "fig, ax = plt.subplots(figsize=(10, 6))\n",
        "\n",
        "# trendlines\n",
        "for device, device_df in df.groupby('Device'):\n",
        "    device_df.groupby('Date')['Clicks'].mean().plot(label=device)\n",
        "\n",
        "#plot labels and legend\n",
        "ax.set_xlabel('Date')\n",
        "ax.set_ylabel('Total Clicks')\n",
        "ax.set_title('Time Series Visualization of Clicks by Device')\n",
        "ax.legend()\n",
        "\n",
        "#plot\n",
        "plt.show()\n"
      ],
      "metadata": {
        "colab": {
          "base_uri": "https://localhost:8080/",
          "height": 564
        },
        "id": "NXylFf94vXhd",
        "outputId": "0a2e949a-4e99-4c5c-8bdd-4514fdab7ff6"
      },
      "execution_count": 8,
      "outputs": [
        {
          "output_type": "display_data",
          "data": {
            "text/plain": [
              "<Figure size 1000x600 with 1 Axes>"
            ],
            "image/png": "[encoded data removed]"
          },
          "metadata": {}
        }
      ]
    },
    {
      "cell_type": "markdown",
      "source": [
        "We have the most number of clicks comming from Mobile phones it seems\n"
      ],
      "metadata": {
        "id": "rHcHYEdx-oP2"
      }
    },
    {
      "cell_type": "markdown",
      "source": [
        "from the visualization we can somewhat deduce that on 2023-05-12 the performance is better than average"
      ],
      "metadata": {
        "id": "d1InKeIDDslH"
      }
    },
    {
      "cell_type": "code",
      "source": [
        "# Identify the control group in the A/B test (replace 'Control' with the actual label)\n",
        "my_control_group = df[df['Group'] == 'Control']\n",
        "\n",
        "# Step 2: Count the total number of clicks in my control group (proxy for conversions)\n",
        "total_conversions_in_control = my_control_group['Clicks'].sum()\n",
        "\n",
        "# Step 3: Count the total number of users (observations) in my control group\n",
        "total_users_in_my_control = my_control_group.shape[0]\n",
        "\n",
        "# Step 4: Calculate the baseline conversion rate in my control group\n",
        "my_baseline_conversion_rate = total_conversions_in_control / total_users_in_my_control\n",
        "\n",
        "# Print the result\n",
        "print(f\"My Baseline Conversion Rate in the Control Group: {my_baseline_conversion_rate:.4f} or {my_baseline_conversion_rate * 100:.2f}%\")\n"
      ],
      "metadata": {
        "colab": {
          "base_uri": "https://localhost:8080/"
        },
        "id": "W8n5hfFT8KGb",
        "outputId": "bdb57c20-c26f-44cc-84ae-fdf8532e5fa8"
      },
      "execution_count": 10,
      "outputs": [
        {
          "output_type": "stream",
          "name": "stdout",
          "text": [
            "My Baseline Conversion Rate in the Control Group: 82.9399 or 8293.99%\n"
          ]
        }
      ]
    },
    {
      "cell_type": "markdown",
      "source": [
        "As Per the Calculations the BCR is 82 and Statistical significance is 95%(given) and the MDE(minimum detectable efffect) is 3(given)\n",
        "\n",
        "using sample size calculator from https://www.optimizely.com/sample-size-calculator/#/?conversion=82&effect=3&significance=95 we conclude that the sample size is more than enough as the required sample size is 3100.\n",
        "\n"
      ],
      "metadata": {
        "id": "m8SQoNcYMzxf"
      }
    },
    {
      "cell_type": "code",
      "source": [
        "import statsmodels.api as sm\n",
        "from statsmodels.stats.proportion import proportions_ztest\n",
        "\n",
        "def hypothesis_test(control_group_data, experiment_group_data, alpha=0.05):\n",
        "    \"\"\"\n",
        "    Perform a hypothesis test to compare conversion rates between control and experiment groups.\n",
        "\n",
        "    Parameters:\n",
        "    - control_group_data: Pandas Series or NumPy array containing data for the control group (e.g., clicks).\n",
        "    - experiment_group_data: Pandas Series or NumPy array containing data for the experiment group (e.g., clicks).\n",
        "    - alpha: Significance level (default is 0.05 for 95% confidence).\n",
        "\n",
        "    Returns:\n",
        "    - A string indicating the conclusion: {\"Experiment Group is Better\", \"Control Group is Better\", \"Indeterminate\"}.\n",
        "    \"\"\"\n",
        "\n",
        "    # Step 1: Count conversions and total users in each group\n",
        "    conversions_control = control_group_data.sum()\n",
        "    total_users_control = control_group_data.shape[0]\n",
        "\n",
        "    conversions_experiment = experiment_group_data.sum()\n",
        "    total_users_experiment = experiment_group_data.shape[0]\n",
        "\n",
        "    # Step 2: Perform a two-sample proportion z-test\n",
        "    z_stat, p_value = proportions_ztest([conversions_control, conversions_experiment],\n",
        "                                        [total_users_control, total_users_experiment])\n",
        "\n",
        "    # Step 3: Compare p-value with significance level\n",
        "    if p_value < alpha:\n",
        "        # Reject the null hypothesis\n",
        "        if conversions_experiment / total_users_experiment > conversions_control / total_users_control:\n",
        "            return \"Experiment Group is Better\"\n",
        "        else:\n",
        "            return \"Control Group is Better\"\n",
        "    else:\n",
        "        # Fail to reject the null hypothesis\n",
        "        return \"Indeterminate\"\n",
        "\n",
        "# Example usage with 'Clicks' data from your data frame\n",
        "control_data = df[df['Group'] == 'Control']['Clicks']\n",
        "experiment_data = df[df['Group'] == 'Experiment']['Clicks']\n",
        "\n",
        "result = hypothesis_test(control_data, experiment_data)\n",
        "print(f\"Hypothesis Test Result: {result}\")\n"
      ],
      "metadata": {
        "colab": {
          "base_uri": "https://localhost:8080/"
        },
        "id": "rGF_epKQMpQ4",
        "outputId": "bbd43d64-aab7-49fb-da40-e0758a28083d"
      },
      "execution_count": 11,
      "outputs": [
        {
          "output_type": "stream",
          "name": "stdout",
          "text": [
            "Hypothesis Test Result: Indeterminate\n"
          ]
        },
        {
          "output_type": "stream",
          "name": "stderr",
          "text": [
            "/usr/local/lib/python3.10/dist-packages/statsmodels/stats/proportion.py:1025: RuntimeWarning: invalid value encountered in sqrt\n",
            "  std_diff = np.sqrt(var_)\n"
          ]
        }
      ]
    },
    {
      "cell_type": "markdown",
      "source": [
        "as the output is indeterminate we need to do some further analysis to get what we need from the data so using some more data set will be beneficial if the result remain the same then we can conclude the test completed\n"
      ],
      "metadata": {
        "id": "gn3MqL_kON0o"
      }
    },
    {
      "cell_type": "code",
      "source": [],
      "metadata": {
        "id": "2j27KtBGOFIg"
      },
      "execution_count": null,
      "outputs": []
    }
  ]
}